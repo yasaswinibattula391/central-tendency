{
  "nbformat": 4,
  "nbformat_minor": 0,
  "metadata": {
    "colab": {
      "provenance": []
    },
    "kernelspec": {
      "name": "python3",
      "display_name": "Python 3"
    },
    "language_info": {
      "name": "python"
    }
  },
  "cells": [
    {
      "cell_type": "code",
      "execution_count": 1,
      "metadata": {
        "id": "wHU6KjDOL91T"
      },
      "outputs": [],
      "source": [
        "import statistics"
      ]
    },
    {
      "cell_type": "code",
      "source": [
        "data=[1,2,3,4,5,5,6,7,8,9]"
      ],
      "metadata": {
        "id": "LHk1_Na8MBdM"
      },
      "execution_count": 2,
      "outputs": []
    },
    {
      "cell_type": "code",
      "source": [
        "mean=statistics.mean(data)\n",
        "print(\"Mean:\",mean)"
      ],
      "metadata": {
        "colab": {
          "base_uri": "https://localhost:8080/"
        },
        "id": "3ckGEZ1pMGZr",
        "outputId": "7661c625-6186-4d11-f6bc-8a356da3c2fd"
      },
      "execution_count": 3,
      "outputs": [
        {
          "output_type": "stream",
          "name": "stdout",
          "text": [
            "Mean: 5\n"
          ]
        }
      ]
    },
    {
      "cell_type": "code",
      "source": [
        "median=statistics.median(data)\n",
        "print(\"Median:\",median)"
      ],
      "metadata": {
        "colab": {
          "base_uri": "https://localhost:8080/"
        },
        "id": "Lpl3b5IQMPAy",
        "outputId": "8af7c7f2-2341-4d9e-950c-413490584ce1"
      },
      "execution_count": 4,
      "outputs": [
        {
          "output_type": "stream",
          "name": "stdout",
          "text": [
            "Median: 5.0\n"
          ]
        }
      ]
    },
    {
      "cell_type": "code",
      "source": [
        "mode=statistics.mode(data)\n",
        "print(\"Mode:\",mode)"
      ],
      "metadata": {
        "colab": {
          "base_uri": "https://localhost:8080/"
        },
        "id": "uYtpIdzAMRRw",
        "outputId": "ee60011b-4e68-40a9-ee98-d04290cdb874"
      },
      "execution_count": 5,
      "outputs": [
        {
          "output_type": "stream",
          "name": "stdout",
          "text": [
            "Mode: 5\n"
          ]
        }
      ]
    },
    {
      "cell_type": "code",
      "source": [
        "variance=statistics.variance(data)\n",
        "print(\"Variance:\",variance)"
      ],
      "metadata": {
        "colab": {
          "base_uri": "https://localhost:8080/"
        },
        "id": "1azZQT9iMVbw",
        "outputId": "f89dbc05-b685-49f6-8f69-70f1531bb6a4"
      },
      "execution_count": 6,
      "outputs": [
        {
          "output_type": "stream",
          "name": "stdout",
          "text": [
            "Variance: 6.666666666666667\n"
          ]
        }
      ]
    },
    {
      "cell_type": "code",
      "source": [
        "standard_deviation=statistics.stdev(data)\n",
        "print(\"Standard Deviation:\",standard_deviation)"
      ],
      "metadata": {
        "colab": {
          "base_uri": "https://localhost:8080/"
        },
        "id": "hHEAj-rwMYJo",
        "outputId": "9e256583-344a-4811-ba34-8e4f4c2eafd3"
      },
      "execution_count": 7,
      "outputs": [
        {
          "output_type": "stream",
          "name": "stdout",
          "text": [
            "Standard Deviation: 2.581988897471611\n"
          ]
        }
      ]
    }
  ]
}